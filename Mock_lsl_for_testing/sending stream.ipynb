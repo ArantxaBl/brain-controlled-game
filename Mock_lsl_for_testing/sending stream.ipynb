{
 "cells": [
  {
   "cell_type": "markdown",
   "metadata": {},
   "source": [
    "# Streaming EEG data with a mock LSL server"
   ]
  },
  {
   "cell_type": "markdown",
   "metadata": {},
   "source": [
    "TODO: Authors"
   ]
  },
  {
   "cell_type": "markdown",
   "metadata": {},
   "source": [
    "TODO: Intro to neurofeedback\n",
    "\n",
    "TODO: Intro to LSL\n",
    "\n",
    "TODO: based on notebook from mne_realtime docs"
   ]
  },
  {
   "cell_type": "code",
   "execution_count": 8,
   "metadata": {},
   "outputs": [],
   "source": [
    "import matplotlib \n",
    "import matplotlib.pyplot as plt\n",
    "\n",
    "import bbtools as bbt\n",
    "\n",
    "from mne_realtime import LSLClient, MockLSLStream\n",
    "\n",
    "%matplotlib notebook"
   ]
  },
  {
   "cell_type": "code",
   "execution_count": 9,
   "metadata": {},
   "outputs": [],
   "source": [
    "# this is the host id that identifies your stream on LSL\n",
    "host = 'localhost'\n",
    "# this is the max wait time in seconds until client connection\n",
    "wait_max = 5"
   ]
  },
  {
   "cell_type": "code",
   "execution_count": 10,
   "metadata": {},
   "outputs": [
    {
     "name": "stdout",
     "output_type": "stream",
     "text": [
      "Creating RawArray with float64 data, n_channels=16, n_times=32776\n",
      "    Range : 0 ... 32775 =      0.000 ...   128.027 secs\n",
      "Ready.\n"
     ]
    }
   ],
   "source": [
    "#raw = bbt.read_csv(\"/Users/Javier/Artificial intelligence/AI6 3rd edition/brain-computer-interfacing/data/2020-02-08-jv-baseline-activity-no-labels/EEG.csv\",\n",
    "raw = bbt.read_csv(\"/Users/Javier/Artificial intelligence/AI6 3rd edition/brain-controlled-game/Mock_lsl_for_testing/Datasets/EEG_blink-jaw-eyesleft-eyesright-30-sec-sequences.csv\",\n",
    "                   ['Fp1', 'Fp2', 'F3', 'F4', 'C1', 'C3', 'C2', 'C4', 'CP1', 'CP3', 'CP2', 'CP4', 'Cz', 'O1', 'O2', 'Pz'])"
   ]
  },
  {
   "cell_type": "markdown",
   "metadata": {},
   "source": [
    "## Start the LSL server\n",
    "\n",
    "TODO: Instructions - Basically, leave it running until you want to stop it"
   ]
  },
  {
   "cell_type": "code",
   "execution_count": 11,
   "metadata": {
    "scrolled": false
   },
   "outputs": [
    {
     "name": "stdout",
     "output_type": "stream",
     "text": [
      "now sending data...\n"
     ]
    },
    {
     "data": {
      "text/plain": [
       "<mne_realtime.mock_lsl_stream.MockLSLStream at 0x81cc85b10>"
      ]
     },
     "execution_count": 11,
     "metadata": {},
     "output_type": "execute_result"
    }
   ],
   "source": [
    "# For this example, let's use the mock LSL stream.\n",
    "stream = MockLSLStream(host, raw, 'eeg', time_dilation=1)\n",
    "stream.start()"
   ]
  },
  {
   "cell_type": "markdown",
   "metadata": {},
   "source": [
    "## Stop the LSL server\n",
    "\n",
    "Stop streaming EEG data through the mock LSL server when it's no longer necessary."
   ]
  },
  {
   "cell_type": "code",
   "execution_count": 13,
   "metadata": {},
   "outputs": [
    {
     "name": "stdout",
     "output_type": "stream",
     "text": [
      "Stopping stream...\n"
     ]
    },
    {
     "data": {
      "text/plain": [
       "<mne_realtime.mock_lsl_stream.MockLSLStream at 0x81cc85b10>"
      ]
     },
     "execution_count": 13,
     "metadata": {},
     "output_type": "execute_result"
    }
   ],
   "source": [
    "# Let's terminate the mock LSL stream\n",
    "stream.stop()"
   ]
  }
 ],
 "metadata": {
  "kernelspec": {
   "display_name": "Python 3",
   "language": "python",
   "name": "python3"
  },
  "language_info": {
   "codemirror_mode": {
    "name": "ipython",
    "version": 3
   },
   "file_extension": ".py",
   "mimetype": "text/x-python",
   "name": "python",
   "nbconvert_exporter": "python",
   "pygments_lexer": "ipython3",
   "version": "3.7.4"
  }
 },
 "nbformat": 4,
 "nbformat_minor": 2
}
